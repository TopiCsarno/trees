{
 "metadata": {
  "language_info": {
   "codemirror_mode": {
    "name": "ipython",
    "version": 3
   },
   "file_extension": ".py",
   "mimetype": "text/x-python",
   "name": "python",
   "nbconvert_exporter": "python",
   "pygments_lexer": "ipython3",
   "version": "3.8.6"
  },
  "orig_nbformat": 2,
  "kernelspec": {
   "name": "python386jvsc74a57bd068199fbcc85441655762fe91afe41ef008a3a18a3af0fa4cd1673d6d13b2df45",
   "display_name": "Python 3.8.6 64-bit ('ml': virtualenvwrapper)"
  }
 },
 "nbformat": 4,
 "nbformat_minor": 2,
 "cells": [
  {
   "cell_type": "code",
   "execution_count": 1,
   "metadata": {},
   "outputs": [],
   "source": [
    "import pandas as pd\n",
    "import numpy as np\n",
    "from sklearn.tree import _tree\n",
    "from sklearn.metrics import accuracy_score\n",
    "from sklearn.ensemble import RandomForestClassifier"
   ]
  },
  {
   "cell_type": "code",
   "execution_count": null,
   "metadata": {},
   "outputs": [],
   "source": [
    "X_train = pd.read_pickle('./data/Race_x_train.pkl')\n",
    "y_train = pd.read_pickle('./data/Race_y_train_so.pkl')\n",
    "X_test = pd.read_pickle('./data/Race_x_test.pkl')\n",
    "y_test = pd.read_pickle('./data/Race_y_test_so.pkl')"
   ]
  },
  {
   "cell_type": "code",
   "execution_count": null,
   "metadata": {},
   "outputs": [],
   "source": [
    "model= RandomForestClassifier(random_state = 100)\n",
    "model.fit(X_train, y_train)"
   ]
  },
  {
   "source": [
    "# Measure edge importance"
   ],
   "cell_type": "markdown",
   "metadata": {}
  },
  {
   "cell_type": "code",
   "execution_count": null,
   "metadata": {},
   "outputs": [],
   "source": [
    "# NxN-es feature mátrixot tölti fel\n",
    "def fill_mx(matrix, feature_list, test_list):\n",
    "    l = len(test_list)\n",
    "    for i in range(l-1):\n",
    "        for j in range(i+1,l):\n",
    "            x = feature_list.index(test_list[i])\n",
    "            y = feature_list.index(test_list[j])\n",
    "            if (x==y): continue\n",
    "            matrix[min(x,y)][max(x,y)] += 1"
   ]
  },
  {
   "cell_type": "code",
   "execution_count": null,
   "metadata": {},
   "outputs": [],
   "source": [
    "def recurse(node, list):\n",
    "    if tree_.feature[node] != _tree.TREE_UNDEFINED:\n",
    "        list.append(feature_name[node])\n",
    "        recurse(tree_.children_left[node], list)\n",
    "        recurse(tree_.children_right[node], list)\n",
    "        del list[-1]\n",
    "    else:\n",
    "        fill_mx(matrix, feature_names, list)\n",
    "                \n",
    "feature_names = X_train.columns.values.tolist()\n",
    "feature_list = []\n",
    "matrix = np.array(np.zeros((len(feature_names),len(feature_names))))\n",
    "\n",
    "#start recurse\n",
    "for tree in model.estimators_:\n",
    "    tree_ = tree.tree_\n",
    "    feature_name = [\n",
    "            feature_names[i] if i != _tree.TREE_UNDEFINED else \"undefined!\"\n",
    "            for i in tree_.feature\n",
    "        ]\n",
    "    recurse(0, feature_list)\n",
    "\n",
    "print(matrix.shape)\n",
    "print(matrix)"
   ]
  },
  {
   "cell_type": "code",
   "execution_count": null,
   "metadata": {},
   "outputs": [],
   "source": [
    "df = pd.DataFrame(matrix, index=feature_names, columns=feature_names)\n",
    "pairs = df.stack().sort_values(ascending=False)\n",
    "pairs[0:20]"
   ]
  },
  {
   "cell_type": "code",
   "execution_count": null,
   "metadata": {},
   "outputs": [],
   "source": [
    "# sum edge weights for each node\n",
    "\n",
    "n = 128\n",
    "top = np.zeros(n)\n",
    "\n",
    "for i in range(n):\n",
    "    sum = np.sum(np.hstack((matrix[0:i,i] , matrix[i,i:n])))\n",
    "    top[i] = sum"
   ]
  },
  {
   "cell_type": "code",
   "execution_count": null,
   "metadata": {},
   "outputs": [],
   "source": [
    "order = np.sort(top)[::-1]\n",
    "order_i = np.argsort(top)[::-1]\n",
    "\n",
    "for v, i in zip(order,order_i):\n",
    "    print(\"f{} \\t {}\".format(i+1,v))"
   ]
  },
  {
   "cell_type": "code",
   "execution_count": null,
   "metadata": {},
   "outputs": [],
   "source": [
    "import matplotlib.pyplot as plt \n",
    "\n",
    "# edge counting\n",
    "strings = []\n",
    "for i in order_i[0:15]:\n",
    "    strings.append(\"f{}\".format(str(i+1)))\n",
    "\n",
    "# sklearn gini\n",
    "ms_imp_df = pd.DataFrame({'feature': X_train.columns.values,\n",
    "                       'importance': model.feature_importances_})\n",
    " \n",
    "# Reorder by importance\n",
    "ms_ordered_df = ms_imp_df.sort_values(by='importance', ascending=False)\n",
    "data = ms_ordered_df.head(n=15)\n",
    "\n",
    "# plot\n",
    "plt.figure(figsize=(20,8))\n",
    "\n",
    "plt.subplot(121)\n",
    "plt.barh(strings,order[0:15])\n",
    "plt.title(\"edge weight counting\")\n",
    "plt.gca().invert_yaxis()\n",
    "\n",
    "plt.subplot(122)\n",
    "plt.title(\"matplotlib feature_importance (gini index)\")\n",
    "plt.barh(data[\"feature\"],data[\"importance\"])\n",
    "plt.gca().invert_yaxis()"
   ]
  },
  {
   "source": [
    "# Remove top x features "
   ],
   "cell_type": "markdown",
   "metadata": {}
  },
  {
   "cell_type": "code",
   "execution_count": null,
   "metadata": {},
   "outputs": [],
   "source": [
    "# original model with 128 features\n",
    "accuracy_score(y_test, model.predict(X_test))"
   ]
  },
  {
   "cell_type": "code",
   "execution_count": null,
   "metadata": {},
   "outputs": [],
   "source": [
    "results = []\n",
    "for n in range(0,101,5):\n",
    "    print(\"removing: {} features\".format(n))\n",
    "    strings = []\n",
    "    for i in order_i[0:n]:\n",
    "        strings.append(\"f{}\".format(str(i+1)))\n",
    "\n",
    "    # remove features\n",
    "    X_train_drop = X_train.drop(columns=strings)\n",
    "    X_test_drop = X_test.drop(columns=strings)\n",
    "\n",
    "    # retrain model\n",
    "    model_drop= RandomForestClassifier(random_state = 100)\n",
    "    model_drop.fit(X_train_drop, y_train)\n",
    "\n",
    "    # new model accuracy score\n",
    "    results.append((n,accuracy_score(y_test, model_drop.predict(X_test_drop))))"
   ]
  },
  {
   "cell_type": "code",
   "execution_count": null,
   "metadata": {},
   "outputs": [],
   "source": [
    "res = [[ i for i, j in results ],\n",
    "       [ j for i, j in results ]]"
   ]
  },
  {
   "cell_type": "code",
   "execution_count": null,
   "metadata": {},
   "outputs": [],
   "source": [
    "plt.figure(figsize=(10,10))\n",
    "plt.plot(res[0], res[1])\n",
    "plt.ylim(0.7)\n",
    "plt.title(\"Race prediction model - top features removed\")\n",
    "plt.ylabel(\"accuracy\")\n",
    "plt.xlabel(\"features removed\")\n",
    "plt.show()"
   ]
  },
  {
   "cell_type": "code",
   "execution_count": null,
   "metadata": {},
   "outputs": [],
   "source": []
  }
 ]
}